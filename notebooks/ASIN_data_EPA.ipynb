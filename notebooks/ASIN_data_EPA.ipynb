{
 "cells": [
  {
   "cell_type": "code",
   "execution_count": 3,
   "metadata": {},
   "outputs": [],
   "source": [
    "import numpy as np\n",
    "import pandas as pd\n",
    "\n",
    "import matplotlib.pyplot as plt\n",
    "%matplotlib inline"
   ]
  },
  {
   "cell_type": "code",
   "execution_count": 4,
   "metadata": {},
   "outputs": [
    {
     "data": {
      "text/html": [
       "<div>\n",
       "<style scoped>\n",
       "    .dataframe tbody tr th:only-of-type {\n",
       "        vertical-align: middle;\n",
       "    }\n",
       "\n",
       "    .dataframe tbody tr th {\n",
       "        vertical-align: top;\n",
       "    }\n",
       "\n",
       "    .dataframe thead th {\n",
       "        text-align: right;\n",
       "    }\n",
       "</style>\n",
       "<table border=\"1\" class=\"dataframe\">\n",
       "  <thead>\n",
       "    <tr style=\"text-align: right;\">\n",
       "      <th></th>\n",
       "      <th>(Parent) ASIN</th>\n",
       "      <th>Title</th>\n",
       "      <th>Sessions</th>\n",
       "      <th>Session Percentage</th>\n",
       "      <th>Page Views</th>\n",
       "      <th>Page Views Percentage</th>\n",
       "      <th>Buy Box Percentage</th>\n",
       "      <th>Units Ordered</th>\n",
       "      <th>Unit Session Percentage</th>\n",
       "      <th>Ordered Product Sales</th>\n",
       "      <th>Total Order Items</th>\n",
       "    </tr>\n",
       "  </thead>\n",
       "  <tbody>\n",
       "    <tr>\n",
       "      <th>0</th>\n",
       "      <td>B00CWU48VI</td>\n",
       "      <td>Isolation Vibration m6 Rubber Mount Replacemen...</td>\n",
       "      <td>764</td>\n",
       "      <td>0.16%</td>\n",
       "      <td>1164</td>\n",
       "      <td>0.18%</td>\n",
       "      <td>83%</td>\n",
       "      <td>177</td>\n",
       "      <td>23.17%</td>\n",
       "      <td>$1514.48</td>\n",
       "      <td>149</td>\n",
       "    </tr>\n",
       "    <tr>\n",
       "      <th>1</th>\n",
       "      <td>B00CWU4DTA</td>\n",
       "      <td>Isolation Vibration m6 Rubber Mount Replacemen...</td>\n",
       "      <td>973</td>\n",
       "      <td>0.20%</td>\n",
       "      <td>1585</td>\n",
       "      <td>0.25%</td>\n",
       "      <td>44%</td>\n",
       "      <td>70</td>\n",
       "      <td>7.19%</td>\n",
       "      <td>$261.89</td>\n",
       "      <td>62</td>\n",
       "    </tr>\n",
       "    <tr>\n",
       "      <th>2</th>\n",
       "      <td>B005B00EVY</td>\n",
       "      <td>HPS HTHH-062-BLK Silicone High Temperature Rei...</td>\n",
       "      <td>3038</td>\n",
       "      <td>0.64%</td>\n",
       "      <td>4166</td>\n",
       "      <td>0.66%</td>\n",
       "      <td>15%</td>\n",
       "      <td>47</td>\n",
       "      <td>1.55%</td>\n",
       "      <td>$515.95</td>\n",
       "      <td>33</td>\n",
       "    </tr>\n",
       "    <tr>\n",
       "      <th>3</th>\n",
       "      <td>B004NYCI2C</td>\n",
       "      <td>HPS HTSC-200-L4-BLK Silicone High Temperature ...</td>\n",
       "      <td>2351</td>\n",
       "      <td>0.49%</td>\n",
       "      <td>3418</td>\n",
       "      <td>0.54%</td>\n",
       "      <td>9%</td>\n",
       "      <td>58</td>\n",
       "      <td>2.47%</td>\n",
       "      <td>$648.23</td>\n",
       "      <td>30</td>\n",
       "    </tr>\n",
       "    <tr>\n",
       "      <th>4</th>\n",
       "      <td>B00ATI059E</td>\n",
       "      <td>Black 3\" Rubber Coupler hose for shortram cold...</td>\n",
       "      <td>424</td>\n",
       "      <td>0.09%</td>\n",
       "      <td>604</td>\n",
       "      <td>0.10%</td>\n",
       "      <td>88%</td>\n",
       "      <td>51</td>\n",
       "      <td>12.03%</td>\n",
       "      <td>$134.41</td>\n",
       "      <td>28</td>\n",
       "    </tr>\n",
       "  </tbody>\n",
       "</table>\n",
       "</div>"
      ],
      "text/plain": [
       "  (Parent) ASIN                                              Title Sessions  \\\n",
       "0    B00CWU48VI  Isolation Vibration m6 Rubber Mount Replacemen...      764   \n",
       "1    B00CWU4DTA  Isolation Vibration m6 Rubber Mount Replacemen...      973   \n",
       "2    B005B00EVY  HPS HTHH-062-BLK Silicone High Temperature Rei...     3038   \n",
       "3    B004NYCI2C  HPS HTSC-200-L4-BLK Silicone High Temperature ...     2351   \n",
       "4    B00ATI059E  Black 3\" Rubber Coupler hose for shortram cold...      424   \n",
       "\n",
       "  Session Percentage Page Views Page Views Percentage Buy Box Percentage  \\\n",
       "0              0.16%       1164                 0.18%                83%   \n",
       "1              0.20%       1585                 0.25%                44%   \n",
       "2              0.64%       4166                 0.66%                15%   \n",
       "3              0.49%       3418                 0.54%                 9%   \n",
       "4              0.09%        604                 0.10%                88%   \n",
       "\n",
       "   Units Ordered Unit Session Percentage Ordered Product Sales  \\\n",
       "0            177                  23.17%              $1514.48   \n",
       "1             70                   7.19%               $261.89   \n",
       "2             47                   1.55%               $515.95   \n",
       "3             58                   2.47%               $648.23   \n",
       "4             51                  12.03%               $134.41   \n",
       "\n",
       "   Total Order Items  \n",
       "0                149  \n",
       "1                 62  \n",
       "2                 33  \n",
       "3                 30  \n",
       "4                 28  "
      ]
     },
     "execution_count": 4,
     "metadata": {},
     "output_type": "execute_result"
    }
   ],
   "source": [
    "fname = '../original_data/Revised By ASIN-Datail Page Sales and Traffic by Parent Item.csv'\n",
    "df = pd.read_csv(fname)\n",
    "df = df.replace(',','',regex=True)\n",
    "df.head()"
   ]
  },
  {
   "cell_type": "code",
   "execution_count": 6,
   "metadata": {},
   "outputs": [
    {
     "data": {
      "text/plain": [
       "0        1164\n",
       "1        1585\n",
       "2        4166\n",
       "3        3418\n",
       "4         604\n",
       "         ... \n",
       "10436      20\n",
       "10437     336\n",
       "10438    3281\n",
       "10439      78\n",
       "10440      32\n",
       "Name: Page Views, Length: 10441, dtype: object"
      ]
     },
     "execution_count": 6,
     "metadata": {},
     "output_type": "execute_result"
    }
   ],
   "source": [
    "df['Page Views']"
   ]
  },
  {
   "cell_type": "code",
   "execution_count": 4,
   "metadata": {},
   "outputs": [],
   "source": [
    "df['Buy Box Percentage'] = df['Buy Box Percentage'].str.rstrip('%').astype('float') /100.0\n",
    "df['Page Views Percentage'] = df['Page Views Percentage'].str.rstrip('%').astype('float') /100.0"
   ]
  },
  {
   "cell_type": "code",
   "execution_count": 5,
   "metadata": {},
   "outputs": [],
   "source": [
    "df['Ordered Product Sales'] = df['Ordered Product Sales'].str.replace('$','').astype('float')"
   ]
  },
  {
   "cell_type": "code",
   "execution_count": 17,
   "metadata": {},
   "outputs": [
    {
     "data": {
      "image/png": "[encoded data removed]",
      "text/plain": [
       "<Figure size 432x288 with 1 Axes>"
      ]
     },
     "metadata": {
      "needs_background": "light"
     },
     "output_type": "display_data"
    }
   ],
   "source": [
    "scale_y = (df['Ordered Product Sales']-np.mean(df['Ordered Product Sales'])) / np.std(df['Ordered Product Sales'])\n",
    "scale_x = (df['Page Views Percentage']*100 - np.mean(df['Page Views Percentage']*100)) / np.std(df['Page Views Percentage']*100)\n",
    "plt.plot(scale_x[scale_x>1],scale_y[scale_x>1],'o')\n",
    "plt.xlabel(r'$\\rm{Page\\,Views\\,Per}$')\n",
    "plt.ylabel(r'$\\rm{Sales}$')\n",
    "plt.yscale('log')\n",
    "plt.xscale('log')\n",
    "#plt.hist(df['Buy Box Percentage'])"
   ]
  },
  {
   "cell_type": "code",
   "execution_count": null,
   "metadata": {},
   "outputs": [],
   "source": []
  }
 ],
 "metadata": {
  "kernelspec": {
   "display_name": "Python 3",
   "language": "python",
   "name": "python3"
  },
  "language_info": {
   "codemirror_mode": {
    "name": "ipython",
    "version": 3
   },
   "file_extension": ".py",
   "mimetype": "text/x-python",
   "name": "python",
   "nbconvert_exporter": "python",
   "pygments_lexer": "ipython3",
   "version": "3.7.6"
  }
 },
 "nbformat": 4,
 "nbformat_minor": 4
}
